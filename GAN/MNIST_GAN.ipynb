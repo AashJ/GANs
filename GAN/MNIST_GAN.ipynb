{
  "nbformat": 4,
  "nbformat_minor": 0,
  "metadata": {
    "colab": {
      "name": "MNIST_GAN.ipynb",
      "version": "0.3.2",
      "views": {},
      "default_view": {},
      "provenance": [],
      "collapsed_sections": [],
      "toc_visible": true
    },
    "kernelspec": {
      "name": "python3",
      "display_name": "Python 3"
    },
    "accelerator": "GPU"
  },
  "cells": [
    {
      "metadata": {
        "id": "2_ftRTTcKJMm",
        "colab_type": "text"
      },
      "cell_type": "markdown",
      "source": [
        "# Dependencies/Setup"
      ]
    },
    {
      "metadata": {
        "id": "xTlgrtUiKOxH",
        "colab_type": "code",
        "colab": {
          "autoexec": {
            "startup": false,
            "wait_interval": 0
          }
        }
      },
      "cell_type": "code",
      "source": [
        "# http://pytorch.org/\n",
        "from os import path\n",
        "from wheel.pep425tags import get_abbr_impl, get_impl_ver, get_abi_tag\n",
        "platform = '{}{}-{}'.format(get_abbr_impl(), get_impl_ver(), get_abi_tag())\n",
        "\n",
        "accelerator = 'cu80' if path.exists('/opt/bin/nvidia-smi') else 'cpu'\n",
        "\n",
        "!pip install -q http://download.pytorch.org/whl/{accelerator}/torch-0.3.0.post4-{platform}-linux_x86_64.whl torchvision\n",
        "import torch"
      ],
      "execution_count": 0,
      "outputs": []
    },
    {
      "metadata": {
        "id": "okfJbxW8KTtj",
        "colab_type": "code",
        "colab": {
          "autoexec": {
            "startup": false,
            "wait_interval": 0
          }
        }
      },
      "cell_type": "code",
      "source": [
        "import torch\n",
        "import torch.nn as nn\n",
        "import torch.nn.functional as F\n",
        "from torchvision import datasets, transforms, utils\n",
        "import torch.optim as optim\n",
        "from torch.autograd import Variable\n",
        "import pdb\n",
        "import matplotlib.pyplot as plt\n",
        "import itertools"
      ],
      "execution_count": 0,
      "outputs": []
    },
    {
      "metadata": {
        "id": "Ae77pqYZf9pv",
        "colab_type": "code",
        "colab": {
          "autoexec": {
            "startup": false,
            "wait_interval": 0
          }
        }
      },
      "cell_type": "code",
      "source": [
        "use_cuda = torch.cuda.is_available()"
      ],
      "execution_count": 0,
      "outputs": []
    },
    {
      "metadata": {
        "id": "tBVPqX7zKrwB",
        "colab_type": "text"
      },
      "cell_type": "markdown",
      "source": [
        "# Models"
      ]
    },
    {
      "metadata": {
        "id": "9xNTirshMjmW",
        "colab_type": "text"
      },
      "cell_type": "markdown",
      "source": [
        "## Generator"
      ]
    },
    {
      "metadata": {
        "id": "cdQMp0MeKszR",
        "colab_type": "code",
        "colab": {
          "autoexec": {
            "startup": false,
            "wait_interval": 0
          }
        }
      },
      "cell_type": "code",
      "source": [
        "class Generator(nn.Module):\n",
        "  def __init__(self, input_size=100, output_size=28*28):\n",
        "    super(Generator, self).__init__()\n",
        "    self.fc1 = nn.Linear(input_size, 256)\n",
        "    self.fc2 = nn.Linear(self.fc1.out_features, 512)\n",
        "    self.fc3 = nn.Linear(self.fc2.out_features, 1024)\n",
        "    self.fc4 = nn.Linear(self.fc3.out_features, output_size)\n",
        "  \n",
        "  def forward(self, x):\n",
        "    x = F.leaky_relu(self.fc1(x), 0.2)\n",
        "    x = F.leaky_relu(self.fc2(x), 0.2)\n",
        "    x = F.leaky_relu(self.fc3(x), 0.2)\n",
        "    x = F.tanh(self.fc4(x))\n",
        "    \n",
        "    return x"
      ],
      "execution_count": 0,
      "outputs": []
    },
    {
      "metadata": {
        "id": "qOxsU6Z4gHK6",
        "colab_type": "code",
        "colab": {
          "autoexec": {
            "startup": false,
            "wait_interval": 0
          }
        }
      },
      "cell_type": "code",
      "source": [
        "G_lr = 0.0002\n",
        "G = Generator().cuda() if use_cuda else Generator()\n",
        "G_optimizer = optim.Adam(G.parameters(), lr=G_lr)"
      ],
      "execution_count": 0,
      "outputs": []
    },
    {
      "metadata": {
        "id": "23MzcT3DMmHD",
        "colab_type": "text"
      },
      "cell_type": "markdown",
      "source": [
        "## Discriminator"
      ]
    },
    {
      "metadata": {
        "id": "BzevUW0-L4xu",
        "colab_type": "code",
        "colab": {
          "autoexec": {
            "startup": false,
            "wait_interval": 0
          }
        }
      },
      "cell_type": "code",
      "source": [
        "class Discriminator(nn.Module):\n",
        "  def __init__(self, input_size=28*28, output_size=1):\n",
        "    super(Discriminator, self).__init__()\n",
        "    self.fc1 = nn.Linear(input_size, 1024)\n",
        "    self.fc2 = nn.Linear(self.fc1.out_features, 512)\n",
        "    self.fc3 = nn.Linear(self.fc2.out_features, 256)\n",
        "    self.fc4 = nn.Linear(self.fc3.out_features, 1)\n",
        "  \n",
        "  def forward(self, x):\n",
        "    x = F.leaky_relu(self.fc1(x), 0.2)\n",
        "    x = F.leaky_relu(self.fc2(x), 0.2)\n",
        "    x = F.leaky_relu(self.fc3(x), 0.2)\n",
        "    x = F.sigmoid(self.fc4(x))\n",
        "    return x"
      ],
      "execution_count": 0,
      "outputs": []
    },
    {
      "metadata": {
        "id": "IsJYeDx3gdqH",
        "colab_type": "code",
        "colab": {
          "autoexec": {
            "startup": false,
            "wait_interval": 0
          }
        }
      },
      "cell_type": "code",
      "source": [
        "D_lr = 0.0002\n",
        "D = Discriminator().cuda() if use_cuda else Discriminator()\n",
        "D_optimizer = optim.Adam(D.parameters(), lr=D_lr)"
      ],
      "execution_count": 0,
      "outputs": []
    },
    {
      "metadata": {
        "id": "nCK30xpZM16l",
        "colab_type": "text"
      },
      "cell_type": "markdown",
      "source": [
        "# Data"
      ]
    },
    {
      "metadata": {
        "id": "YJri59lBOPTX",
        "colab_type": "code",
        "colab": {
          "autoexec": {
            "startup": false,
            "wait_interval": 0
          }
        }
      },
      "cell_type": "code",
      "source": [
        "batch_size = 64"
      ],
      "execution_count": 0,
      "outputs": []
    },
    {
      "metadata": {
        "id": "Oh4zazOiMiTf",
        "colab_type": "code",
        "colab": {
          "autoexec": {
            "startup": false,
            "wait_interval": 0
          }
        }
      },
      "cell_type": "code",
      "source": [
        "mnist_normalization = transforms.Compose([\n",
        "    transforms.ToTensor(),\n",
        "    transforms.Normalize(mean=(0.5, 0.5, 0.5), std=(0.5, 0.5, 0.5))\n",
        "])\n",
        "mnist_dataset = datasets.MNIST('data', train=True, transform=mnist_normalization, download=True)\n",
        "data_loader = torch.utils.data.DataLoader(mnist_dataset, batch_size=batch_size, shuffle=True)"
      ],
      "execution_count": 0,
      "outputs": []
    },
    {
      "metadata": {
        "id": "v5mO73Qleiv7",
        "colab_type": "code",
        "colab": {
          "autoexec": {
            "startup": false,
            "wait_interval": 0
          }
        }
      },
      "cell_type": "code",
      "source": [
        "bce_loss = nn.BCELoss()"
      ],
      "execution_count": 0,
      "outputs": []
    },
    {
      "metadata": {
        "id": "E737b8wIjCn9",
        "colab_type": "text"
      },
      "cell_type": "markdown",
      "source": [
        "# Utilities"
      ]
    },
    {
      "metadata": {
        "id": "BcODkryqjEQ0",
        "colab_type": "code",
        "colab": {
          "autoexec": {
            "startup": false,
            "wait_interval": 0
          }
        }
      },
      "cell_type": "code",
      "source": [
        "def put_tensor_in_cuda_variable(tensor, use_cuda, volatile=False):\n",
        "  if (use_cuda):\n",
        "    tensor = tensor.cuda()\n",
        "  return Variable(tensor, volatile=volatile)"
      ],
      "execution_count": 0,
      "outputs": []
    },
    {
      "metadata": {
        "id": "yiB1VXTxPu6R",
        "colab_type": "code",
        "colab": {
          "autoexec": {
            "startup": false,
            "wait_interval": 0
          }
        }
      },
      "cell_type": "code",
      "source": [
        "def show_generator_result(generator, batch_noise, rows=5, cols=5, \n",
        "                          label=\"Generator results\"):\n",
        "  generator.eval()\n",
        "  \n",
        "  batch_noise = put_tensor_in_cuda_variable(batch_noise, use_cuda)\n",
        "  batch_images = generator(batch_noise)\n",
        "  \n",
        "  fig, ax = plt.subplots(rows, cols, figsize=(rows, cols))\n",
        "  for i, j in itertools.product(range(rows), range(cols)):\n",
        "    ax[i, j].get_xaxis().set_visible(False)\n",
        "    ax[i, j].get_yaxis().set_visible(False)\n",
        "  \n",
        "  # total = rows * cols if rows * cols <= batch_noise.size()[0] else total = batch_noise.size()[0]\n",
        "  for k in range(rows * cols):\n",
        "    i = k//5\n",
        "    j = k%5\n",
        "    ax[i, j].cla()\n",
        "    ax[i, j].imshow(batch_images[k, :].cpu().data.view(28, 28).numpy(), cmap='gray')\n",
        "  \n",
        "  plt.suptitle(label, fontsize=16)\n",
        "\n",
        "  plt.show()\n",
        "\n",
        "  \n",
        "  generator.train()"
      ],
      "execution_count": 0,
      "outputs": []
    },
    {
      "metadata": {
        "id": "4wwxv9TLPxbN",
        "colab_type": "code",
        "colab": {
          "autoexec": {
            "startup": false,
            "wait_interval": 0
          }
        }
      },
      "cell_type": "code",
      "source": [
        "def save_model(generator, discriminator, epoch):\n",
        "  torch.save(generator.state_dict(), './generator{}.model'.format(epoch))\n",
        "  torch.save(discriminator.state_dict(), './discriminator{}.model'.format(epoch))"
      ],
      "execution_count": 0,
      "outputs": []
    },
    {
      "metadata": {
        "id": "pt6Nki_8ObP1",
        "colab_type": "text"
      },
      "cell_type": "markdown",
      "source": [
        "# Optimization"
      ]
    },
    {
      "metadata": {
        "id": "yUrn2aqhU1-w",
        "colab_type": "text"
      },
      "cell_type": "markdown",
      "source": [
        "## Discriminator"
      ]
    },
    {
      "metadata": {
        "id": "H4uxcQw9OUz4",
        "colab_type": "code",
        "colab": {
          "autoexec": {
            "startup": false,
            "wait_interval": 0
          }
        }
      },
      "cell_type": "code",
      "source": [
        "def train_discriminator(real_samples_flatten, current_batch_size, discriminator, generator, discriminator_optimizer):\n",
        "  \n",
        "  discriminator.zero_grad()\n",
        "  \n",
        "  \n",
        "  noise = torch.randn((current_batch_size, 100))\n",
        "  noise = put_tensor_in_cuda_variable(noise, use_cuda)\n",
        "  fake_samples = generator(noise)\n",
        "  \n",
        "  d_real_target = torch.ones(current_batch_size)\n",
        "  d_real_target = put_tensor_in_cuda_variable(d_real_target, use_cuda)\n",
        "  d_real = discriminator(real_samples_flatten)\n",
        "  d_real_loss = bce_loss(d_real, d_real_target)\n",
        "  \n",
        "  d_fake_target = torch.zeros(current_batch_size)\n",
        "  d_fake_target = put_tensor_in_cuda_variable(d_fake_target, use_cuda)\n",
        "  d_fake = discriminator(fake_samples)\n",
        "  d_fake_loss = bce_loss(d_fake, d_fake_target)\n",
        "  \n",
        "  d_total_loss = d_fake_loss + d_real_loss\n",
        "  d_total_loss.backward()\n",
        "  discriminator_optimizer.step()"
      ],
      "execution_count": 0,
      "outputs": []
    },
    {
      "metadata": {
        "id": "BwpLD0xsU6aX",
        "colab_type": "text"
      },
      "cell_type": "markdown",
      "source": [
        "## Generator"
      ]
    },
    {
      "metadata": {
        "id": "e7pPykfMfYj4",
        "colab_type": "code",
        "colab": {
          "autoexec": {
            "startup": false,
            "wait_interval": 0
          }
        }
      },
      "cell_type": "code",
      "source": [
        "def train_generator(current_batch_size, discriminator, generator, generator_optimizer):\n",
        "  generator.zero_grad()\n",
        "  \n",
        "  noise = torch.randn((current_batch_size, 100))\n",
        "  noise = put_tensor_in_cuda_variable(noise, use_cuda)\n",
        "  \n",
        "  fake_samples = generator(noise)\n",
        "  d_real_target = torch.ones(current_batch_size)\n",
        "  d_real_target = put_tensor_in_cuda_variable(d_real_target, use_cuda)\n",
        "  \n",
        "  d_fake = discriminator(fake_samples)\n",
        "  \n",
        "  g_loss = bce_loss(d_fake, d_real_target)\n",
        "  g_loss.backward()\n",
        "  generator_optimizer.step()"
      ],
      "execution_count": 0,
      "outputs": []
    },
    {
      "metadata": {
        "id": "PqGSeRtvWCWw",
        "colab_type": "text"
      },
      "cell_type": "markdown",
      "source": [
        "# Training"
      ]
    },
    {
      "metadata": {
        "id": "obAt5UdShvMV",
        "colab_type": "code",
        "colab": {
          "autoexec": {
            "startup": false,
            "wait_interval": 0
          }
        }
      },
      "cell_type": "code",
      "source": [
        "def train(discriminator, discriminator_optimizer, generator, generator_optimizer, data_loader, num_epochs=100):\n",
        "  for epoch in range(num_epochs):\n",
        "    print('---------------------')\n",
        "    print('Epoch: {}'.format(epoch))\n",
        "    for real_sample, _ in data_loader:\n",
        "      real_samples_flatten = real_sample.view(-1, 28 * 28)\n",
        "      real_samples_flatten = put_tensor_in_cuda_variable(real_samples_flatten, use_cuda)\n",
        "      current_batch_size = real_samples_flatten.size()[0]\n",
        "  \n",
        "      train_discriminator(real_samples_flatten, current_batch_size, discriminator, generator, discriminator_optimizer)\n",
        "      train_generator(current_batch_size, discriminator, generator, generator_optimizer)\n",
        "      "
      ],
      "execution_count": 0,
      "outputs": []
    },
    {
      "metadata": {
        "id": "Zg6p1qF4XUIn",
        "colab_type": "code",
        "colab": {
          "autoexec": {
            "startup": false,
            "wait_interval": 0
          },
          "base_uri": "https://localhost:8080/",
          "height": 3505
        },
        "outputId": "d851301e-17c8-4361-a8fd-f7065ce71a62",
        "executionInfo": {
          "status": "ok",
          "timestamp": 1526502767510,
          "user_tz": 420,
          "elapsed": 2151102,
          "user": {
            "displayName": "Aashish Jain",
            "photoUrl": "https://lh3.googleusercontent.com/a/default-user=s128",
            "userId": "107956229098465793394"
          }
        }
      },
      "cell_type": "code",
      "source": [
        "train(D, D_optimizer, G, G_optimizer, data_loader)"
      ],
      "execution_count": 17,
      "outputs": [
        {
          "output_type": "stream",
          "text": [
            "---------------------\n",
            "Epoch: 0\n"
          ],
          "name": "stdout"
        },
        {
          "output_type": "stream",
          "text": [
            "/usr/local/lib/python3.6/dist-packages/torch/nn/functional.py:1168: UserWarning: Using a target size (torch.Size([64])) that is different to the input size (torch.Size([64, 1])) is deprecated. Please ensure they have the same size.\n",
            "  \"Please ensure they have the same size.\".format(target.size(), input.size()))\n",
            "/usr/local/lib/python3.6/dist-packages/torch/nn/functional.py:1168: UserWarning: Using a target size (torch.Size([32])) that is different to the input size (torch.Size([32, 1])) is deprecated. Please ensure they have the same size.\n",
            "  \"Please ensure they have the same size.\".format(target.size(), input.size()))\n"
          ],
          "name": "stderr"
        },
        {
          "output_type": "stream",
          "text": [
            "---------------------\n",
            "Epoch: 1\n",
            "---------------------\n",
            "Epoch: 2\n",
            "---------------------\n",
            "Epoch: 3\n",
            "---------------------\n",
            "Epoch: 4\n",
            "---------------------\n",
            "Epoch: 5\n",
            "---------------------\n",
            "Epoch: 6\n",
            "---------------------\n",
            "Epoch: 7\n",
            "---------------------\n",
            "Epoch: 8\n",
            "---------------------\n",
            "Epoch: 9\n",
            "---------------------\n",
            "Epoch: 10\n",
            "---------------------\n",
            "Epoch: 11\n",
            "---------------------\n",
            "Epoch: 12\n",
            "---------------------\n",
            "Epoch: 13\n",
            "---------------------\n",
            "Epoch: 14\n",
            "---------------------\n",
            "Epoch: 15\n",
            "---------------------\n",
            "Epoch: 16\n",
            "---------------------\n",
            "Epoch: 17\n",
            "---------------------\n",
            "Epoch: 18\n",
            "---------------------\n",
            "Epoch: 19\n",
            "---------------------\n",
            "Epoch: 20\n",
            "---------------------\n",
            "Epoch: 21\n",
            "---------------------\n",
            "Epoch: 22\n",
            "---------------------\n",
            "Epoch: 23\n",
            "---------------------\n",
            "Epoch: 24\n",
            "---------------------\n",
            "Epoch: 25\n",
            "---------------------\n",
            "Epoch: 26\n",
            "---------------------\n",
            "Epoch: 27\n",
            "---------------------\n",
            "Epoch: 28\n",
            "---------------------\n",
            "Epoch: 29\n",
            "---------------------\n",
            "Epoch: 30\n",
            "---------------------\n",
            "Epoch: 31\n",
            "---------------------\n",
            "Epoch: 32\n",
            "---------------------\n",
            "Epoch: 33\n",
            "---------------------\n",
            "Epoch: 34\n",
            "---------------------\n",
            "Epoch: 35\n",
            "---------------------\n",
            "Epoch: 36\n",
            "---------------------\n",
            "Epoch: 37\n",
            "---------------------\n",
            "Epoch: 38\n",
            "---------------------\n",
            "Epoch: 39\n",
            "---------------------\n",
            "Epoch: 40\n",
            "---------------------\n",
            "Epoch: 41\n",
            "---------------------\n",
            "Epoch: 42\n",
            "---------------------\n",
            "Epoch: 43\n",
            "---------------------\n",
            "Epoch: 44\n",
            "---------------------\n",
            "Epoch: 45\n",
            "---------------------\n",
            "Epoch: 46\n",
            "---------------------\n",
            "Epoch: 47\n",
            "---------------------\n",
            "Epoch: 48\n",
            "---------------------\n",
            "Epoch: 49\n",
            "---------------------\n",
            "Epoch: 50\n",
            "---------------------\n",
            "Epoch: 51\n",
            "---------------------\n",
            "Epoch: 52\n",
            "---------------------\n",
            "Epoch: 53\n",
            "---------------------\n",
            "Epoch: 54\n",
            "---------------------\n",
            "Epoch: 55\n",
            "---------------------\n",
            "Epoch: 56\n",
            "---------------------\n",
            "Epoch: 57\n",
            "---------------------\n",
            "Epoch: 58\n",
            "---------------------\n",
            "Epoch: 59\n",
            "---------------------\n",
            "Epoch: 60\n",
            "---------------------\n",
            "Epoch: 61\n",
            "---------------------\n",
            "Epoch: 62\n",
            "---------------------\n",
            "Epoch: 63\n",
            "---------------------\n",
            "Epoch: 64\n",
            "---------------------\n",
            "Epoch: 65\n",
            "---------------------\n",
            "Epoch: 66\n",
            "---------------------\n",
            "Epoch: 67\n",
            "---------------------\n",
            "Epoch: 68\n",
            "---------------------\n",
            "Epoch: 69\n",
            "---------------------\n",
            "Epoch: 70\n",
            "---------------------\n",
            "Epoch: 71\n",
            "---------------------\n",
            "Epoch: 72\n",
            "---------------------\n",
            "Epoch: 73\n",
            "---------------------\n",
            "Epoch: 74\n",
            "---------------------\n",
            "Epoch: 75\n",
            "---------------------\n",
            "Epoch: 76\n",
            "---------------------\n",
            "Epoch: 77\n",
            "---------------------\n",
            "Epoch: 78\n"
          ],
          "name": "stdout"
        },
        {
          "output_type": "stream",
          "text": [
            "---------------------\n",
            "Epoch: 79\n",
            "---------------------\n",
            "Epoch: 80\n",
            "---------------------\n",
            "Epoch: 81\n",
            "---------------------\n",
            "Epoch: 82\n",
            "---------------------\n",
            "Epoch: 83\n",
            "---------------------\n",
            "Epoch: 84\n",
            "---------------------\n",
            "Epoch: 85\n",
            "---------------------\n",
            "Epoch: 86\n",
            "---------------------\n",
            "Epoch: 87\n",
            "---------------------\n",
            "Epoch: 88\n",
            "---------------------\n",
            "Epoch: 89\n",
            "---------------------\n",
            "Epoch: 90\n",
            "---------------------\n",
            "Epoch: 91\n",
            "---------------------\n",
            "Epoch: 92\n",
            "---------------------\n",
            "Epoch: 93\n",
            "---------------------\n",
            "Epoch: 94\n",
            "---------------------\n",
            "Epoch: 95\n",
            "---------------------\n",
            "Epoch: 96\n",
            "---------------------\n",
            "Epoch: 97\n",
            "---------------------\n",
            "Epoch: 98\n",
            "---------------------\n",
            "Epoch: 99\n"
          ],
          "name": "stdout"
        }
      ]
    },
    {
      "metadata": {
        "id": "3cojYGIfPzxT",
        "colab_type": "text"
      },
      "cell_type": "markdown",
      "source": [
        "# Results"
      ]
    },
    {
      "metadata": {
        "id": "S4ISdIk9XlLq",
        "colab_type": "code",
        "colab": {
          "autoexec": {
            "startup": false,
            "wait_interval": 0
          },
          "base_uri": "https://localhost:8080/",
          "height": 339
        },
        "outputId": "a3371ea2-65ef-4911-d509-5567904f9738",
        "executionInfo": {
          "status": "ok",
          "timestamp": 1526502769814,
          "user_tz": 420,
          "elapsed": 2283,
          "user": {
            "displayName": "Aashish Jain",
            "photoUrl": "https://lh3.googleusercontent.com/a/default-user=s128",
            "userId": "107956229098465793394"
          }
        }
      },
      "cell_type": "code",
      "source": [
        "batch_noise = torch.randn(30, 100)\n",
        "show_generator_result(G, batch_noise, rows=6, cols=5)"
      ],
      "execution_count": 18,
      "outputs": [
        {
          "output_type": "display_data",
          "data": {
            "image/png": "[encoded data removed]",
            "text/plain": [
              "<matplotlib.figure.Figure at 0x7fcf771aee80>"
            ]
          },
          "metadata": {
            "tags": []
          }
        }
      ]
    },
    {
      "metadata": {
        "id": "M5T-hpBzqV4o",
        "colab_type": "text"
      },
      "cell_type": "markdown",
      "source": [
        "# Saving/Loading Model"
      ]
    },
    {
      "metadata": {
        "id": "Fs1YcaW36XsU",
        "colab_type": "code",
        "colab": {
          "autoexec": {
            "startup": false,
            "wait_interval": 0
          }
        }
      },
      "cell_type": "code",
      "source": [
        "save_model(G, D, 100)"
      ],
      "execution_count": 0,
      "outputs": []
    },
    {
      "metadata": {
        "id": "fy3ON66QrCGL",
        "colab_type": "code",
        "colab": {
          "autoexec": {
            "startup": false,
            "wait_interval": 0
          }
        }
      },
      "cell_type": "code",
      "source": [
        "generator100 = Generator().cuda() if use_cuda else Generator()\n",
        "generator100.load_state_dict(torch.load('./generator100.model'))"
      ],
      "execution_count": 0,
      "outputs": []
    },
    {
      "metadata": {
        "id": "yW706v4lrR3G",
        "colab_type": "code",
        "colab": {
          "autoexec": {
            "startup": false,
            "wait_interval": 0
          }
        }
      },
      "cell_type": "code",
      "source": [
        "discriminator100 = Discriminator().cuda() if use_cuda else Discriminator()\n",
        "discriminator100.load_state_dict(torch.load('./discriminator100.model'))"
      ],
      "execution_count": 0,
      "outputs": []
    },
    {
      "metadata": {
        "id": "lEdqBHgqrW3D",
        "colab_type": "code",
        "colab": {
          "autoexec": {
            "startup": false,
            "wait_interval": 0
          },
          "base_uri": "https://localhost:8080/",
          "height": 339
        },
        "outputId": "6ae473a1-d3e2-4906-884b-195ec2631aa7",
        "executionInfo": {
          "status": "ok",
          "timestamp": 1526503198759,
          "user_tz": 420,
          "elapsed": 2159,
          "user": {
            "displayName": "Aashish Jain",
            "photoUrl": "https://lh3.googleusercontent.com/a/default-user=s128",
            "userId": "107956229098465793394"
          }
        }
      },
      "cell_type": "code",
      "source": [
        "batch_noise = torch.randn(30, 100)\n",
        "show_generator_result(generator100, batch_noise, rows=6, cols=5)"
      ],
      "execution_count": 34,
      "outputs": [
        {
          "output_type": "display_data",
          "data": {
            "image/png": "[encoded data removed]",
            "text/plain": [
              "<matplotlib.figure.Figure at 0x7fcf6cd24128>"
            ]
          },
          "metadata": {
            "tags": []
          }
        }
      ]
    },
    {
      "metadata": {
        "id": "EHZvfjpMra3Z",
        "colab_type": "code",
        "colab": {
          "autoexec": {
            "startup": false,
            "wait_interval": 0
          }
        }
      },
      "cell_type": "code",
      "source": [
        ""
      ],
      "execution_count": 0,
      "outputs": []
    }
  ]
}